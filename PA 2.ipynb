{
 "cells": [
  {
   "cell_type": "markdown",
   "id": "055c906d",
   "metadata": {},
   "source": [
    "1. Write a Python program to convert kilometers to miles?\n"
   ]
  },
  {
   "cell_type": "code",
   "execution_count": 1,
   "id": "4197c1e6",
   "metadata": {},
   "outputs": [
    {
     "name": "stdout",
     "output_type": "stream",
     "text": [
      "Enter kilometers :10\n",
      "10.000 kilometers is equal to 6.210 miles\n"
     ]
    }
   ],
   "source": [
    "kilometers = float(input(\"Enter kilometers :\"))\n",
    "conversionUnit = 0.621\n",
    "miles = kilometers * conversionUnit\n",
    "print(\"%0.3f kilometers is equal to %0.3f miles\"%(kilometers,miles))"
   ]
  },
  {
   "cell_type": "markdown",
   "id": "c0c51109",
   "metadata": {},
   "source": [
    "2. Write a Python program to convert Celsius to Fahrenheit?\n"
   ]
  },
  {
   "cell_type": "code",
   "execution_count": 2,
   "id": "514b76ba",
   "metadata": {},
   "outputs": [
    {
     "name": "stdout",
     "output_type": "stream",
     "text": [
      "Celsius : 37.6\n",
      "37.60 celsius is 99.68 fahrenheit\n"
     ]
    }
   ],
   "source": [
    "\n",
    "# Fahrenheit = celsius *(9/5) + 32\n",
    "\n",
    "celsius = float(input(\"Celsius : \"))\n",
    "fahrenheit = 9/5 * celsius + 32\n",
    "print(\"%0.2f celsius is %0.2f fahrenheit\"%(celsius,fahrenheit))"
   ]
  },
  {
   "cell_type": "markdown",
   "id": "5e36044a",
   "metadata": {},
   "source": [
    "3. Write a Python program to display calendar?\n"
   ]
  },
  {
   "cell_type": "code",
   "execution_count": 3,
   "id": "6325010d",
   "metadata": {},
   "outputs": [
    {
     "name": "stdout",
     "output_type": "stream",
     "text": [
      " Enter Year : 2023\n",
      "Enter Month : 1\n",
      "Calender\n",
      "    January 2023\n",
      "Mo Tu We Th Fr Sa Su\n",
      "                   1\n",
      " 2  3  4  5  6  7  8\n",
      " 9 10 11 12 13 14 15\n",
      "16 17 18 19 20 21 22\n",
      "23 24 25 26 27 28 29\n",
      "30 31\n",
      "\n"
     ]
    }
   ],
   "source": [
    "import calendar\n",
    "\n",
    "y = int(input(\" Enter Year : \"))\n",
    "m = int(input(\"Enter Month : \"))\n",
    "\n",
    "try :\n",
    "    print(\"Calender\")\n",
    "    print(calendar.month(y,m))\n",
    "except:\n",
    "    print(\"Out of range\")"
   ]
  },
  {
   "cell_type": "markdown",
   "id": "ae922974",
   "metadata": {},
   "source": [
    "4. Write a Python program to solve quadratic equation?\n"
   ]
  },
  {
   "cell_type": "code",
   "execution_count": 4,
   "id": "bfc58359",
   "metadata": {},
   "outputs": [
    {
     "name": "stdout",
     "output_type": "stream",
     "text": [
      " Enter value of a : 5\n",
      " Enter value of b : 12\n",
      " Enter value of c : 13\n",
      "The roots are\n",
      "(-1.2-1.0770329614269007j)\n",
      "(-1.2+1.0770329614269007j)\n"
     ]
    }
   ],
   "source": [
    "# import complex math module\n",
    "import cmath\n",
    "  \n",
    "\n",
    "a = int(input(\" Enter value of a : \"))\n",
    "b = int(input(\" Enter value of b : \"))\n",
    "c = int(input(\" Enter value of c : \"))\n",
    "# calculating  the discriminant\n",
    "dis = (b**2) - (4 * a*c)\n",
    "  \n",
    "# find two results\n",
    "x1 = (-b-cmath.sqrt(dis))/(2 * a)\n",
    "x2 = (-b + cmath.sqrt(dis))/(2 * a)\n",
    "  \n",
    "# printing the results\n",
    "print('The roots are')\n",
    "print(x1)\n",
    "print(x2)"
   ]
  },
  {
   "cell_type": "markdown",
   "id": "ce60c473",
   "metadata": {},
   "source": [
    "5. Write a Python program to swap two variables without temp variable?\n"
   ]
  },
  {
   "cell_type": "code",
   "execution_count": 5,
   "id": "745e618d",
   "metadata": {},
   "outputs": [
    {
     "name": "stdout",
     "output_type": "stream",
     "text": [
      "Num1 : 5\n",
      "Num2 : 6\n",
      "Before swaping x = 5, y = 6\n",
      "After swaping x = 6, y = 5\n"
     ]
    }
   ],
   "source": [
    "x = int(input(\"Num1 : \"))\n",
    "y = int(input(\"Num2 : \"))\n",
    "print(\"Before swaping x = {}, y = {}\".format(x,y))\n",
    "#swaping :)\n",
    "y,x = x,y\n",
    "print(\"After swaping x = {}, y = {}\".format(x,y))"
   ]
  },
  {
   "cell_type": "code",
   "execution_count": null,
   "id": "43ef3f37",
   "metadata": {},
   "outputs": [],
   "source": []
  }
 ],
 "metadata": {
  "kernelspec": {
   "display_name": "Python 3 (ipykernel)",
   "language": "python",
   "name": "python3"
  },
  "language_info": {
   "codemirror_mode": {
    "name": "ipython",
    "version": 3
   },
   "file_extension": ".py",
   "mimetype": "text/x-python",
   "name": "python",
   "nbconvert_exporter": "python",
   "pygments_lexer": "ipython3",
   "version": "3.9.12"
  }
 },
 "nbformat": 4,
 "nbformat_minor": 5
}
